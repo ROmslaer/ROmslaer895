{
 "cells": [
  {
   "cell_type": "markdown",
   "id": "15acc616",
   "metadata": {},
   "source": [
    "## Changes in Precipitation and Discharge Trends in the Ammonnoosuc River Watershed, New Hampshire\n",
    "Ryan Omslaer"
   ]
  },
  {
   "cell_type": "markdown",
   "id": "6bf07ae3",
   "metadata": {},
   "source": [
    "Introduction\n",
    "\n"
   ]
  },
  {
   "cell_type": "markdown",
   "id": "c4fdd249",
   "metadata": {},
   "source": [
    "Research Question:\n",
    "\n",
    "Is there an increase in 24 hour large precipitation events on the Ammonoosuc River watershed? And do these events also lead to an associated discharge increase after a lag time? My specific focuses are whether high precipitation events are increasing and identifying the lag time associated with higher discharges/floods."
   ]
  },
  {
   "cell_type": "markdown",
   "id": "6ed11a2a",
   "metadata": {},
   "source": [
    "Study Site:\n",
    "\n",
    "My study site will be the Ammonoosuc River watershed in western NH. The outlet of my watershed will be defined as the USGS 01137500 gauging station, located at Bethlehem Junction, NH."
   ]
  },
  {
   "cell_type": "markdown",
   "id": "6b51f547",
   "metadata": {},
   "source": [
    "Datasets:\n",
    "\n",
    "Datasets I will be using are the USGS Ammonoosuc River at Bethlehem Junction daily discharge records, daily precipitation records from rain gauge USC00274329 located in Jefferson NH, and a gridded precipitation reanalysis by the NOAA Physical Sciences Laboratory. The gridded reanalysis will be centered on the rain gauge location in Jefferson, NH via lat and long."
   ]
  },
  {
   "cell_type": "markdown",
   "id": "8c33533f",
   "metadata": {},
   "source": [
    "Raw Data and Plotting Code:"
   ]
  },
  {
   "cell_type": "code",
   "execution_count": 14,
   "id": "4246b22d",
   "metadata": {},
   "outputs": [],
   "source": [
    "import pandas as pd\n",
    "import numpy as np\n",
    "import matplotlib.pyplot as plt\n",
    "import xarray as xr\n",
    "import glob\n",
    "import os\n",
    "from pathlib import Path\n",
    "from matplotlib.ticker import MaxNLocator, FuncFormatter\n",
    "#import of libraries"
   ]
  },
  {
   "cell_type": "code",
   "execution_count": 15,
   "id": "9dc6886f",
   "metadata": {},
   "outputs": [],
   "source": [
    "qfile = 'discharge.txt'\n",
    "grid_path = Path('Grid')\n",
    "precip_files = ['4146341.csv', '4151138.csv', '4151152.csv']\n",
    "#all input files needed"
   ]
  },
  {
   "cell_type": "code",
   "execution_count": 16,
   "id": "9a404c74",
   "metadata": {},
   "outputs": [
    {
     "data": {
      "application/vnd.microsoft.datawrangler.viewer.v0+json": {
       "columns": [
        {
         "name": "Date",
         "rawType": "datetime64[ns]",
         "type": "datetime"
        },
        {
         "name": "Grid Precip (in)",
         "rawType": "float32",
         "type": "float"
        }
       ],
       "ref": "6b8e56c9-4f8e-4858-a211-a0032e3821b8",
       "rows": [
        [
         "1963-01-01 00:00:00",
         "0.0024519223"
        ],
        [
         "1963-01-02 00:00:00",
         "0.0"
        ],
        [
         "1963-01-03 00:00:00",
         "0.0"
        ],
        [
         "1963-01-04 00:00:00",
         "0.001537599"
        ],
        [
         "1963-01-05 00:00:00",
         "0.0"
        ],
        [
         "1963-01-06 00:00:00",
         "0.0"
        ],
        [
         "1963-01-07 00:00:00",
         "0.0"
        ],
        [
         "1963-01-08 00:00:00",
         "0.0057890043"
        ],
        [
         "1963-01-09 00:00:00",
         "0.0046688695"
        ],
        [
         "1963-01-10 00:00:00",
         "0.0149273425"
        ],
        [
         "1963-01-11 00:00:00",
         "0.0501016"
        ],
        [
         "1963-01-12 00:00:00",
         "0.22838098"
        ],
        [
         "1963-01-13 00:00:00",
         "0.44862837"
        ],
        [
         "1963-01-14 00:00:00",
         "0.04333512"
        ],
        [
         "1963-01-15 00:00:00",
         "0.0"
        ],
        [
         "1963-01-16 00:00:00",
         "0.036702983"
        ],
        [
         "1963-01-17 00:00:00",
         "0.0"
        ],
        [
         "1963-01-18 00:00:00",
         "0.0"
        ],
        [
         "1963-01-19 00:00:00",
         "0.0"
        ],
        [
         "1963-01-20 00:00:00",
         "0.36524877"
        ],
        [
         "1963-01-21 00:00:00",
         "0.0264145"
        ],
        [
         "1963-01-22 00:00:00",
         "0.003911691"
        ],
        [
         "1963-01-23 00:00:00",
         "0.21912935"
        ],
        [
         "1963-01-24 00:00:00",
         "0.4586121"
        ],
        [
         "1963-01-25 00:00:00",
         "0.0"
        ],
        [
         "1963-01-26 00:00:00",
         "0.0"
        ],
        [
         "1963-01-27 00:00:00",
         "0.6139134"
        ],
        [
         "1963-01-28 00:00:00",
         "0.20783526"
        ],
        [
         "1963-01-29 00:00:00",
         "0.0"
        ],
        [
         "1963-01-30 00:00:00",
         "0.0"
        ],
        [
         "1963-01-31 00:00:00",
         "0.0"
        ],
        [
         "1963-02-01 00:00:00",
         "0.0"
        ],
        [
         "1963-02-02 00:00:00",
         "0.18250687"
        ],
        [
         "1963-02-03 00:00:00",
         "0.30705562"
        ],
        [
         "1963-02-04 00:00:00",
         "0.16513248"
        ],
        [
         "1963-02-05 00:00:00",
         "0.29636005"
        ],
        [
         "1963-02-06 00:00:00",
         "0.034837227"
        ],
        [
         "1963-02-07 00:00:00",
         "0.14400665"
        ],
        [
         "1963-02-08 00:00:00",
         "0.0"
        ],
        [
         "1963-02-09 00:00:00",
         "0.0"
        ],
        [
         "1963-02-10 00:00:00",
         "0.014211163"
        ],
        [
         "1963-02-11 00:00:00",
         "0.070693694"
        ],
        [
         "1963-02-12 00:00:00",
         "0.115503535"
        ],
        [
         "1963-02-13 00:00:00",
         "0.2489035"
        ],
        [
         "1963-02-14 00:00:00",
         "0.02954148"
        ],
        [
         "1963-02-15 00:00:00",
         "0.04411312"
        ],
        [
         "1963-02-16 00:00:00",
         "0.0"
        ],
        [
         "1963-02-17 00:00:00",
         "0.059977766"
        ],
        [
         "1963-02-18 00:00:00",
         "0.02650083"
        ],
        [
         "1963-02-19 00:00:00",
         "0.018298054"
        ]
       ],
       "shape": {
        "columns": 1,
        "rows": 19358
       }
      },
      "text/html": [
       "<div>\n",
       "<style scoped>\n",
       "    .dataframe tbody tr th:only-of-type {\n",
       "        vertical-align: middle;\n",
       "    }\n",
       "\n",
       "    .dataframe tbody tr th {\n",
       "        vertical-align: top;\n",
       "    }\n",
       "\n",
       "    .dataframe thead th {\n",
       "        text-align: right;\n",
       "    }\n",
       "</style>\n",
       "<table border=\"1\" class=\"dataframe\">\n",
       "  <thead>\n",
       "    <tr style=\"text-align: right;\">\n",
       "      <th></th>\n",
       "      <th>Grid Precip (in)</th>\n",
       "    </tr>\n",
       "    <tr>\n",
       "      <th>Date</th>\n",
       "      <th></th>\n",
       "    </tr>\n",
       "  </thead>\n",
       "  <tbody>\n",
       "    <tr>\n",
       "      <th>1963-01-01</th>\n",
       "      <td>0.002452</td>\n",
       "    </tr>\n",
       "    <tr>\n",
       "      <th>1963-01-02</th>\n",
       "      <td>0.000000</td>\n",
       "    </tr>\n",
       "    <tr>\n",
       "      <th>1963-01-03</th>\n",
       "      <td>0.000000</td>\n",
       "    </tr>\n",
       "    <tr>\n",
       "      <th>1963-01-04</th>\n",
       "      <td>0.001538</td>\n",
       "    </tr>\n",
       "    <tr>\n",
       "      <th>1963-01-05</th>\n",
       "      <td>0.000000</td>\n",
       "    </tr>\n",
       "    <tr>\n",
       "      <th>...</th>\n",
       "      <td>...</td>\n",
       "    </tr>\n",
       "    <tr>\n",
       "      <th>2015-12-27</th>\n",
       "      <td>0.237292</td>\n",
       "    </tr>\n",
       "    <tr>\n",
       "      <th>2015-12-28</th>\n",
       "      <td>0.443012</td>\n",
       "    </tr>\n",
       "    <tr>\n",
       "      <th>2015-12-29</th>\n",
       "      <td>0.426561</td>\n",
       "    </tr>\n",
       "    <tr>\n",
       "      <th>2015-12-30</th>\n",
       "      <td>0.465154</td>\n",
       "    </tr>\n",
       "    <tr>\n",
       "      <th>2015-12-31</th>\n",
       "      <td>0.225154</td>\n",
       "    </tr>\n",
       "  </tbody>\n",
       "</table>\n",
       "<p>19358 rows × 1 columns</p>\n",
       "</div>"
      ],
      "text/plain": [
       "            Grid Precip (in)\n",
       "Date                        \n",
       "1963-01-01          0.002452\n",
       "1963-01-02          0.000000\n",
       "1963-01-03          0.000000\n",
       "1963-01-04          0.001538\n",
       "1963-01-05          0.000000\n",
       "...                      ...\n",
       "2015-12-27          0.237292\n",
       "2015-12-28          0.443012\n",
       "2015-12-29          0.426561\n",
       "2015-12-30          0.465154\n",
       "2015-12-31          0.225154\n",
       "\n",
       "[19358 rows x 1 columns]"
      ]
     },
     "execution_count": 16,
     "metadata": {},
     "output_type": "execute_result"
    }
   ],
   "source": [
    "lat = 44.43 #latitude of Jefferson, NH\n",
    "lon = 288.51 #longtitude in 0-360 format\n",
    "files = sorted(glob.glob(os.path.join(grid_path, \"precip.V1.0.*.nc\"))) \n",
    "dfs = []\n",
    "for f in files:\n",
    "    ds = xr.open_dataset(f) #opens each .nc file\n",
    "    precip = ds['precip']\n",
    "    series = precip.sel(lat=lat, lon=lon, method='nearest') #extracts data from cell closest to Jefferson, NH\n",
    "    df = series.to_dataframe().reset_index() #converts data to df format\n",
    "    dfs.append(df) #each year/file is appended to a list\n",
    "    ds.close()  # free memory\n",
    "grid_all = pd.concat(dfs, ignore_index=True) #concatenation of each year into single df\n",
    "grid_all = grid_all.drop(columns=['lat', 'lon'])\n",
    "grid_all = grid_all.rename(columns={'time': 'Date'})\n",
    "grid_all['Date'] = pd.to_datetime(grid_all['Date'])\n",
    "grid_all = grid_all.set_index('Date')\n",
    "grid_all['Grid Precip (in)'] = grid_all['precip'] / 25.4\n",
    "grid_all = grid_all.drop(columns=['precip'])\n",
    "grid_all"
   ]
  },
  {
   "cell_type": "code",
   "execution_count": 17,
   "id": "738b37e8",
   "metadata": {},
   "outputs": [
    {
     "data": {
      "application/vnd.microsoft.datawrangler.viewer.v0+json": {
       "columns": [
        {
         "name": "Date",
         "rawType": "datetime64[ns]",
         "type": "datetime"
        },
        {
         "name": "Discharge (cfs)",
         "rawType": "object",
         "type": "string"
        }
       ],
       "ref": "4580d542-bc47-4a69-bb53-11e3974cf955",
       "rows": [
        [
         "1963-10-01 00:00:00",
         "59.0"
        ],
        [
         "1963-10-02 00:00:00",
         "48.0"
        ],
        [
         "1963-10-03 00:00:00",
         "43.0"
        ],
        [
         "1963-10-04 00:00:00",
         "52.0"
        ],
        [
         "1963-10-05 00:00:00",
         "58.0"
        ],
        [
         "1963-10-06 00:00:00",
         "48.0"
        ],
        [
         "1963-10-07 00:00:00",
         "43.0"
        ],
        [
         "1963-10-08 00:00:00",
         "45.0"
        ],
        [
         "1963-10-09 00:00:00",
         "44.0"
        ],
        [
         "1963-10-10 00:00:00",
         "43.0"
        ],
        [
         "1963-10-11 00:00:00",
         "41.0"
        ],
        [
         "1963-10-12 00:00:00",
         "46.0"
        ],
        [
         "1963-10-13 00:00:00",
         "44.0"
        ],
        [
         "1963-10-14 00:00:00",
         "40.0"
        ],
        [
         "1963-10-15 00:00:00",
         "39.0"
        ],
        [
         "1963-10-16 00:00:00",
         "37.0"
        ],
        [
         "1963-10-17 00:00:00",
         "34.0"
        ],
        [
         "1963-10-18 00:00:00",
         "34.0"
        ],
        [
         "1963-10-19 00:00:00",
         "34.0"
        ],
        [
         "1963-10-20 00:00:00",
         "34.0"
        ],
        [
         "1963-10-21 00:00:00",
         "34.0"
        ],
        [
         "1963-10-22 00:00:00",
         "33.0"
        ],
        [
         "1963-10-23 00:00:00",
         "33.0"
        ],
        [
         "1963-10-24 00:00:00",
         "33.0"
        ],
        [
         "1963-10-25 00:00:00",
         "33.0"
        ],
        [
         "1963-10-26 00:00:00",
         "33.0"
        ],
        [
         "1963-10-27 00:00:00",
         "32.0"
        ],
        [
         "1963-10-28 00:00:00",
         "32.0"
        ],
        [
         "1963-10-29 00:00:00",
         "39.0"
        ],
        [
         "1963-10-30 00:00:00",
         "43.0"
        ],
        [
         "1963-10-31 00:00:00",
         "38.0"
        ],
        [
         "1963-11-01 00:00:00",
         "60.0"
        ],
        [
         "1963-11-02 00:00:00",
         "129"
        ],
        [
         "1963-11-03 00:00:00",
         "113"
        ],
        [
         "1963-11-04 00:00:00",
         "71.0"
        ],
        [
         "1963-11-05 00:00:00",
         "74.0"
        ],
        [
         "1963-11-06 00:00:00",
         "94.0"
        ],
        [
         "1963-11-07 00:00:00",
         "1450"
        ],
        [
         "1963-11-08 00:00:00",
         "3360"
        ],
        [
         "1963-11-09 00:00:00",
         "1110"
        ],
        [
         "1963-11-10 00:00:00",
         "585"
        ],
        [
         "1963-11-11 00:00:00",
         "385"
        ],
        [
         "1963-11-12 00:00:00",
         "318"
        ],
        [
         "1963-11-13 00:00:00",
         "271"
        ],
        [
         "1963-11-14 00:00:00",
         "236"
        ],
        [
         "1963-11-15 00:00:00",
         "205"
        ],
        [
         "1963-11-16 00:00:00",
         "183"
        ],
        [
         "1963-11-17 00:00:00",
         "169"
        ],
        [
         "1963-11-18 00:00:00",
         "269"
        ],
        [
         "1963-11-19 00:00:00",
         "746"
        ]
       ],
       "shape": {
        "columns": 1,
        "rows": 22668
       }
      },
      "text/html": [
       "<div>\n",
       "<style scoped>\n",
       "    .dataframe tbody tr th:only-of-type {\n",
       "        vertical-align: middle;\n",
       "    }\n",
       "\n",
       "    .dataframe tbody tr th {\n",
       "        vertical-align: top;\n",
       "    }\n",
       "\n",
       "    .dataframe thead th {\n",
       "        text-align: right;\n",
       "    }\n",
       "</style>\n",
       "<table border=\"1\" class=\"dataframe\">\n",
       "  <thead>\n",
       "    <tr style=\"text-align: right;\">\n",
       "      <th></th>\n",
       "      <th>Discharge (cfs)</th>\n",
       "    </tr>\n",
       "    <tr>\n",
       "      <th>Date</th>\n",
       "      <th></th>\n",
       "    </tr>\n",
       "  </thead>\n",
       "  <tbody>\n",
       "    <tr>\n",
       "      <th>1963-10-01</th>\n",
       "      <td>59.0</td>\n",
       "    </tr>\n",
       "    <tr>\n",
       "      <th>1963-10-02</th>\n",
       "      <td>48.0</td>\n",
       "    </tr>\n",
       "    <tr>\n",
       "      <th>1963-10-03</th>\n",
       "      <td>43.0</td>\n",
       "    </tr>\n",
       "    <tr>\n",
       "      <th>1963-10-04</th>\n",
       "      <td>52.0</td>\n",
       "    </tr>\n",
       "    <tr>\n",
       "      <th>1963-10-05</th>\n",
       "      <td>58.0</td>\n",
       "    </tr>\n",
       "    <tr>\n",
       "      <th>...</th>\n",
       "      <td>...</td>\n",
       "    </tr>\n",
       "    <tr>\n",
       "      <th>2025-10-18</th>\n",
       "      <td>34.0</td>\n",
       "    </tr>\n",
       "    <tr>\n",
       "      <th>2025-10-19</th>\n",
       "      <td>32.7</td>\n",
       "    </tr>\n",
       "    <tr>\n",
       "      <th>2025-10-20</th>\n",
       "      <td>64.9</td>\n",
       "    </tr>\n",
       "    <tr>\n",
       "      <th>2025-10-21</th>\n",
       "      <td>349</td>\n",
       "    </tr>\n",
       "    <tr>\n",
       "      <th>2025-10-22</th>\n",
       "      <td>530</td>\n",
       "    </tr>\n",
       "  </tbody>\n",
       "</table>\n",
       "<p>22668 rows × 1 columns</p>\n",
       "</div>"
      ],
      "text/plain": [
       "           Discharge (cfs)\n",
       "Date                      \n",
       "1963-10-01            59.0\n",
       "1963-10-02            48.0\n",
       "1963-10-03            43.0\n",
       "1963-10-04            52.0\n",
       "1963-10-05            58.0\n",
       "...                    ...\n",
       "2025-10-18            34.0\n",
       "2025-10-19            32.7\n",
       "2025-10-20            64.9\n",
       "2025-10-21             349\n",
       "2025-10-22             530\n",
       "\n",
       "[22668 rows x 1 columns]"
      ]
     },
     "execution_count": 17,
     "metadata": {},
     "output_type": "execute_result"
    }
   ],
   "source": [
    "ammo = pd.read_csv(qfile, comment='#', sep='\\s+') #inports USGS style data and removes headers\n",
    "ammo = ammo.drop(columns=['agency_cd', 'site_no', '64501_00060_00003_cd'])\n",
    "ammo = ammo.rename(columns={'64501_00060_00003': 'Discharge (cfs)'})\n",
    "ammo = ammo.rename(columns={'datetime': 'Date'})\n",
    "#dropping unnecessary columns, renaming columns for clarity\n",
    "ammo = ammo[ammo['Date'].str.match(r'\\d{4}-\\d{2}-\\d{2}')] #formatting for datetime\n",
    "ammo['Date'] = pd.to_datetime(ammo['Date'])\n",
    "ammo = ammo.set_index('Date')\n",
    "ammo"
   ]
  },
  {
   "cell_type": "code",
   "execution_count": 18,
   "id": "86cdcf43",
   "metadata": {},
   "outputs": [
    {
     "data": {
      "application/vnd.microsoft.datawrangler.viewer.v0+json": {
       "columns": [
        {
         "name": "Date",
         "rawType": "datetime64[ns]",
         "type": "datetime"
        },
        {
         "name": "Gauge Precip (in)",
         "rawType": "float64",
         "type": "float"
        }
       ],
       "ref": "09d95e81-6c6d-4db7-9294-6ea9d4026a4b",
       "rows": [
        [
         "1963-08-01 00:00:00",
         "0.0"
        ],
        [
         "1963-08-02 00:00:00",
         "0.0"
        ],
        [
         "1963-08-03 00:00:00",
         "0.0"
        ],
        [
         "1963-08-04 00:00:00",
         "0.5"
        ],
        [
         "1963-08-05 00:00:00",
         "1.61"
        ],
        [
         "1963-08-06 00:00:00",
         "0.33"
        ],
        [
         "1963-08-07 00:00:00",
         "0.01"
        ],
        [
         "1963-08-08 00:00:00",
         "0.0"
        ],
        [
         "1963-08-09 00:00:00",
         "0.0"
        ],
        [
         "1963-08-10 00:00:00",
         "0.35"
        ],
        [
         "1963-08-11 00:00:00",
         "0.11"
        ],
        [
         "1963-08-12 00:00:00",
         "0.37"
        ],
        [
         "1963-08-13 00:00:00",
         "1.7"
        ],
        [
         "1963-08-14 00:00:00",
         "0.0"
        ],
        [
         "1963-08-15 00:00:00",
         "0.0"
        ],
        [
         "1963-08-16 00:00:00",
         "0.17"
        ],
        [
         "1963-08-17 00:00:00",
         "0.01"
        ],
        [
         "1963-08-18 00:00:00",
         "0.07"
        ],
        [
         "1963-08-19 00:00:00",
         "0.0"
        ],
        [
         "1963-08-20 00:00:00",
         "0.0"
        ],
        [
         "1963-08-21 00:00:00",
         "0.0"
        ],
        [
         "1963-08-22 00:00:00",
         "0.0"
        ],
        [
         "1963-08-23 00:00:00",
         "0.08"
        ],
        [
         "1963-08-24 00:00:00",
         "0.12"
        ],
        [
         "1963-08-25 00:00:00",
         "0.0"
        ],
        [
         "1963-08-26 00:00:00",
         "0.0"
        ],
        [
         "1963-08-27 00:00:00",
         "0.0"
        ],
        [
         "1963-08-28 00:00:00",
         "0.13"
        ],
        [
         "1963-08-29 00:00:00",
         "0.06"
        ],
        [
         "1963-08-30 00:00:00",
         "0.33"
        ],
        [
         "1963-08-31 00:00:00",
         "0.0"
        ],
        [
         "1963-09-01 00:00:00",
         "0.0"
        ],
        [
         "1963-09-02 00:00:00",
         "0.0"
        ],
        [
         "1963-09-03 00:00:00",
         "0.0"
        ],
        [
         "1963-09-04 00:00:00",
         "0.05"
        ],
        [
         "1963-09-05 00:00:00",
         "0.0"
        ],
        [
         "1963-09-06 00:00:00",
         "0.0"
        ],
        [
         "1963-09-07 00:00:00",
         "0.0"
        ],
        [
         "1963-09-08 00:00:00",
         "0.0"
        ],
        [
         "1963-09-09 00:00:00",
         "0.0"
        ],
        [
         "1963-09-10 00:00:00",
         "0.0"
        ],
        [
         "1963-09-11 00:00:00",
         "0.0"
        ],
        [
         "1963-09-12 00:00:00",
         "0.04"
        ],
        [
         "1963-09-13 00:00:00",
         "0.06"
        ],
        [
         "1963-09-14 00:00:00",
         "0.0"
        ],
        [
         "1963-09-15 00:00:00",
         "0.0"
        ],
        [
         "1963-09-16 00:00:00",
         "0.0"
        ],
        [
         "1963-09-17 00:00:00",
         "0.0"
        ],
        [
         "1963-09-18 00:00:00",
         "0.0"
        ],
        [
         "1963-09-19 00:00:00",
         "0.0"
        ]
       ],
       "shape": {
        "columns": 1,
        "rows": 20915
       }
      },
      "text/html": [
       "<div>\n",
       "<style scoped>\n",
       "    .dataframe tbody tr th:only-of-type {\n",
       "        vertical-align: middle;\n",
       "    }\n",
       "\n",
       "    .dataframe tbody tr th {\n",
       "        vertical-align: top;\n",
       "    }\n",
       "\n",
       "    .dataframe thead th {\n",
       "        text-align: right;\n",
       "    }\n",
       "</style>\n",
       "<table border=\"1\" class=\"dataframe\">\n",
       "  <thead>\n",
       "    <tr style=\"text-align: right;\">\n",
       "      <th></th>\n",
       "      <th>Gauge Precip (in)</th>\n",
       "    </tr>\n",
       "    <tr>\n",
       "      <th>Date</th>\n",
       "      <th></th>\n",
       "    </tr>\n",
       "  </thead>\n",
       "  <tbody>\n",
       "    <tr>\n",
       "      <th>1963-08-01</th>\n",
       "      <td>0.00</td>\n",
       "    </tr>\n",
       "    <tr>\n",
       "      <th>1963-08-02</th>\n",
       "      <td>0.00</td>\n",
       "    </tr>\n",
       "    <tr>\n",
       "      <th>1963-08-03</th>\n",
       "      <td>0.00</td>\n",
       "    </tr>\n",
       "    <tr>\n",
       "      <th>1963-08-04</th>\n",
       "      <td>0.50</td>\n",
       "    </tr>\n",
       "    <tr>\n",
       "      <th>1963-08-05</th>\n",
       "      <td>1.61</td>\n",
       "    </tr>\n",
       "    <tr>\n",
       "      <th>...</th>\n",
       "      <td>...</td>\n",
       "    </tr>\n",
       "    <tr>\n",
       "      <th>2025-10-08</th>\n",
       "      <td>1.85</td>\n",
       "    </tr>\n",
       "    <tr>\n",
       "      <th>2025-10-09</th>\n",
       "      <td>0.15</td>\n",
       "    </tr>\n",
       "    <tr>\n",
       "      <th>2025-10-10</th>\n",
       "      <td>0.00</td>\n",
       "    </tr>\n",
       "    <tr>\n",
       "      <th>2025-10-11</th>\n",
       "      <td>0.00</td>\n",
       "    </tr>\n",
       "    <tr>\n",
       "      <th>2025-10-12</th>\n",
       "      <td>0.00</td>\n",
       "    </tr>\n",
       "  </tbody>\n",
       "</table>\n",
       "<p>20915 rows × 1 columns</p>\n",
       "</div>"
      ],
      "text/plain": [
       "            Gauge Precip (in)\n",
       "Date                         \n",
       "1963-08-01               0.00\n",
       "1963-08-02               0.00\n",
       "1963-08-03               0.00\n",
       "1963-08-04               0.50\n",
       "1963-08-05               1.61\n",
       "...                       ...\n",
       "2025-10-08               1.85\n",
       "2025-10-09               0.15\n",
       "2025-10-10               0.00\n",
       "2025-10-11               0.00\n",
       "2025-10-12               0.00\n",
       "\n",
       "[20915 rows x 1 columns]"
      ]
     },
     "execution_count": 18,
     "metadata": {},
     "output_type": "execute_result"
    }
   ],
   "source": [
    "precip_dfs = []\n",
    "for f in precip_files: #loops through all precip files\n",
    "    df = pd.read_csv(f)\n",
    "    df = df.rename(columns={'DATE': 'Date'})\n",
    "    if 'MDPR' in df.columns: #adds MDPR totals to precip if it is present\n",
    "        df['MDPR'] = df['MDPR'].fillna(0)\n",
    "        df['PRCP'] = df['PRCP'] + df['MDPR']\n",
    "        df = df.rename(columns={'PRCP': 'Gauge Precip (in)'})\n",
    "        df = df.drop(columns=['STATION', 'NAME', 'DAPR', 'DASF', 'MDSF', 'SNOW', 'SNWD', 'MDPR'], errors='ignore') #dropping unnecessary columns\n",
    "        df['Date'] = pd.to_datetime(df['Date'])\n",
    "        df = df.set_index('Date')\n",
    "        precip_dfs.append(df) #appends all dfs to precip_dfs\n",
    "precip_all = pd.concat(precip_dfs) #puts all files under the same df\n",
    "precip_all = precip_all.sort_index()\n",
    "precip_all"
   ]
  },
  {
   "cell_type": "code",
   "execution_count": 19,
   "id": "bed3ca83",
   "metadata": {},
   "outputs": [
    {
     "name": "stdout",
     "output_type": "stream",
     "text": [
      "Overlapping period: 1963-10-01 to 2015-12-31\n"
     ]
    }
   ],
   "source": [
    "starts = [df.index.min() for df in [precip_all, grid_all, ammo]]\n",
    "ends   = [df.index.max() for df in [precip_all, grid_all, ammo]]\n",
    "start = max(starts)\n",
    "end   = min(ends)\n",
    "print(f\"Overlapping period: {start.date()} to {end.date()}\")\n",
    "#finding the beginning and end of overlapping period of records"
   ]
  },
  {
   "cell_type": "code",
   "execution_count": 20,
   "id": "247589b0",
   "metadata": {},
   "outputs": [
    {
     "data": {
      "application/vnd.microsoft.datawrangler.viewer.v0+json": {
       "columns": [
        {
         "name": "Date",
         "rawType": "datetime64[ns]",
         "type": "datetime"
        },
        {
         "name": "Gauge Precip (in)",
         "rawType": "float64",
         "type": "float"
        },
        {
         "name": "Grid Precip (in)",
         "rawType": "float32",
         "type": "float"
        },
        {
         "name": "Discharge (cfs)",
         "rawType": "object",
         "type": "string"
        }
       ],
       "ref": "25ab5761-c326-4ffe-a13d-b74fd87c1f87",
       "rows": [
        [
         "1963-10-01 00:00:00",
         "0.0",
         "0.0017391313",
         "59.0"
        ],
        [
         "1963-10-02 00:00:00",
         "0.0",
         "0.0",
         "48.0"
        ],
        [
         "1963-10-03 00:00:00",
         "0.18",
         "0.17760187",
         "43.0"
        ],
        [
         "1963-10-04 00:00:00",
         "0.1",
         "0.15641445",
         "52.0"
        ],
        [
         "1963-10-05 00:00:00",
         "0.0",
         "0.0034556321",
         "58.0"
        ],
        [
         "1963-10-06 00:00:00",
         "0.0",
         "0.0",
         "48.0"
        ],
        [
         "1963-10-07 00:00:00",
         "0.0",
         "0.00120876",
         "43.0"
        ],
        [
         "1963-10-08 00:00:00",
         "0.22",
         "0.11864942",
         "45.0"
        ],
        [
         "1963-10-09 00:00:00",
         "0.0",
         "0.0",
         "44.0"
        ],
        [
         "1963-10-10 00:00:00",
         "0.0",
         "0.0",
         "43.0"
        ],
        [
         "1963-10-11 00:00:00",
         "0.05",
         "0.11262968",
         "41.0"
        ],
        [
         "1963-10-12 00:00:00",
         "0.16",
         "0.21711442",
         "46.0"
        ],
        [
         "1963-10-13 00:00:00",
         "0.0",
         "0.0",
         "44.0"
        ],
        [
         "1963-10-14 00:00:00",
         "0.0",
         "0.0",
         "40.0"
        ],
        [
         "1963-10-15 00:00:00",
         "0.0",
         "0.0",
         "39.0"
        ],
        [
         "1963-10-16 00:00:00",
         "0.0",
         "0.0",
         "37.0"
        ],
        [
         "1963-10-17 00:00:00",
         "0.0",
         "0.0",
         "34.0"
        ],
        [
         "1963-10-18 00:00:00",
         "0.16",
         "0.04200903",
         "34.0"
        ],
        [
         "1963-10-19 00:00:00",
         "0.0",
         "0.0",
         "34.0"
        ],
        [
         "1963-10-20 00:00:00",
         "0.0",
         "0.0",
         "34.0"
        ],
        [
         "1963-10-21 00:00:00",
         "0.0",
         "0.0",
         "34.0"
        ],
        [
         "1963-10-22 00:00:00",
         "0.0",
         "0.0",
         "33.0"
        ],
        [
         "1963-10-23 00:00:00",
         "0.0",
         "0.0",
         "33.0"
        ],
        [
         "1963-10-24 00:00:00",
         "0.0",
         "0.0",
         "33.0"
        ],
        [
         "1963-10-25 00:00:00",
         "0.0",
         "0.0",
         "33.0"
        ],
        [
         "1963-10-26 00:00:00",
         "0.0",
         "0.0",
         "33.0"
        ],
        [
         "1963-10-27 00:00:00",
         "0.0",
         "0.0",
         "32.0"
        ],
        [
         "1963-10-28 00:00:00",
         "0.0",
         "0.015110273",
         "32.0"
        ],
        [
         "1963-10-29 00:00:00",
         "0.33",
         "0.6480846",
         "39.0"
        ],
        [
         "1963-10-30 00:00:00",
         "0.23",
         "0.22949615",
         "43.0"
        ],
        [
         "1963-10-31 00:00:00",
         "0.0",
         "0.019707492",
         "38.0"
        ],
        [
         "1963-11-01 00:00:00",
         "0.27",
         "0.35299584",
         "60.0"
        ],
        [
         "1963-11-02 00:00:00",
         "0.54",
         "0.5421832",
         "129"
        ],
        [
         "1963-11-03 00:00:00",
         "0.63",
         "0.7506683",
         "113"
        ],
        [
         "1963-11-04 00:00:00",
         "0.0",
         "0.008691138",
         "71.0"
        ],
        [
         "1963-11-05 00:00:00",
         "0.0",
         "0.0",
         "74.0"
        ],
        [
         "1963-11-06 00:00:00",
         "0.0",
         "0.028905595",
         "94.0"
        ],
        [
         "1963-11-07 00:00:00",
         "0.6",
         "1.1037304",
         "1450"
        ],
        [
         "1963-11-08 00:00:00",
         "1.32",
         "2.1554263",
         "3360"
        ],
        [
         "1963-11-09 00:00:00",
         "0.2",
         "0.57775724",
         "1110"
        ],
        [
         "1963-11-10 00:00:00",
         "0.0",
         "0.10036588",
         "585"
        ],
        [
         "1963-11-11 00:00:00",
         "0.23",
         "0.25525782",
         "385"
        ],
        [
         "1963-11-12 00:00:00",
         "0.13",
         "0.25695735",
         "318"
        ],
        [
         "1963-11-13 00:00:00",
         "0.1",
         "0.058884647",
         "271"
        ],
        [
         "1963-11-14 00:00:00",
         "0.22",
         "0.1276274",
         "236"
        ],
        [
         "1963-11-15 00:00:00",
         "0.07",
         "0.10462251",
         "205"
        ],
        [
         "1963-11-16 00:00:00",
         "0.02",
         "0.017582983",
         "183"
        ],
        [
         "1963-11-17 00:00:00",
         "0.12",
         "0.051512167",
         "169"
        ],
        [
         "1963-11-18 00:00:00",
         "0.08",
         "0.2028657",
         "269"
        ],
        [
         "1963-11-19 00:00:00",
         "0.0",
         "0.47435644",
         "746"
        ]
       ],
       "shape": {
        "columns": 3,
        "rows": 17282
       }
      },
      "text/html": [
       "<div>\n",
       "<style scoped>\n",
       "    .dataframe tbody tr th:only-of-type {\n",
       "        vertical-align: middle;\n",
       "    }\n",
       "\n",
       "    .dataframe tbody tr th {\n",
       "        vertical-align: top;\n",
       "    }\n",
       "\n",
       "    .dataframe thead th {\n",
       "        text-align: right;\n",
       "    }\n",
       "</style>\n",
       "<table border=\"1\" class=\"dataframe\">\n",
       "  <thead>\n",
       "    <tr style=\"text-align: right;\">\n",
       "      <th></th>\n",
       "      <th>Gauge Precip (in)</th>\n",
       "      <th>Grid Precip (in)</th>\n",
       "      <th>Discharge (cfs)</th>\n",
       "    </tr>\n",
       "    <tr>\n",
       "      <th>Date</th>\n",
       "      <th></th>\n",
       "      <th></th>\n",
       "      <th></th>\n",
       "    </tr>\n",
       "  </thead>\n",
       "  <tbody>\n",
       "    <tr>\n",
       "      <th>1963-10-01</th>\n",
       "      <td>0.00</td>\n",
       "      <td>0.001739</td>\n",
       "      <td>59.0</td>\n",
       "    </tr>\n",
       "    <tr>\n",
       "      <th>1963-10-02</th>\n",
       "      <td>0.00</td>\n",
       "      <td>0.000000</td>\n",
       "      <td>48.0</td>\n",
       "    </tr>\n",
       "    <tr>\n",
       "      <th>1963-10-03</th>\n",
       "      <td>0.18</td>\n",
       "      <td>0.177602</td>\n",
       "      <td>43.0</td>\n",
       "    </tr>\n",
       "    <tr>\n",
       "      <th>1963-10-04</th>\n",
       "      <td>0.10</td>\n",
       "      <td>0.156414</td>\n",
       "      <td>52.0</td>\n",
       "    </tr>\n",
       "    <tr>\n",
       "      <th>1963-10-05</th>\n",
       "      <td>0.00</td>\n",
       "      <td>0.003456</td>\n",
       "      <td>58.0</td>\n",
       "    </tr>\n",
       "    <tr>\n",
       "      <th>...</th>\n",
       "      <td>...</td>\n",
       "      <td>...</td>\n",
       "      <td>...</td>\n",
       "    </tr>\n",
       "    <tr>\n",
       "      <th>2015-12-27</th>\n",
       "      <td>0.31</td>\n",
       "      <td>0.237292</td>\n",
       "      <td>311</td>\n",
       "    </tr>\n",
       "    <tr>\n",
       "      <th>2015-12-28</th>\n",
       "      <td>0.33</td>\n",
       "      <td>0.443012</td>\n",
       "      <td>343</td>\n",
       "    </tr>\n",
       "    <tr>\n",
       "      <th>2015-12-29</th>\n",
       "      <td>0.31</td>\n",
       "      <td>0.426561</td>\n",
       "      <td>222</td>\n",
       "    </tr>\n",
       "    <tr>\n",
       "      <th>2015-12-30</th>\n",
       "      <td>0.54</td>\n",
       "      <td>0.465154</td>\n",
       "      <td>223</td>\n",
       "    </tr>\n",
       "    <tr>\n",
       "      <th>2015-12-31</th>\n",
       "      <td>0.24</td>\n",
       "      <td>0.225154</td>\n",
       "      <td>204</td>\n",
       "    </tr>\n",
       "  </tbody>\n",
       "</table>\n",
       "<p>17282 rows × 3 columns</p>\n",
       "</div>"
      ],
      "text/plain": [
       "            Gauge Precip (in)  Grid Precip (in) Discharge (cfs)\n",
       "Date                                                           \n",
       "1963-10-01               0.00          0.001739            59.0\n",
       "1963-10-02               0.00          0.000000            48.0\n",
       "1963-10-03               0.18          0.177602            43.0\n",
       "1963-10-04               0.10          0.156414            52.0\n",
       "1963-10-05               0.00          0.003456            58.0\n",
       "...                       ...               ...             ...\n",
       "2015-12-27               0.31          0.237292             311\n",
       "2015-12-28               0.33          0.443012             343\n",
       "2015-12-29               0.31          0.426561             222\n",
       "2015-12-30               0.54          0.465154             223\n",
       "2015-12-31               0.24          0.225154             204\n",
       "\n",
       "[17282 rows x 3 columns]"
      ]
     },
     "execution_count": 20,
     "metadata": {},
     "output_type": "execute_result"
    }
   ],
   "source": [
    "if isinstance(grid_all, xr.DataArray):\n",
    "    grid_all = grid_all.to_series().to_frame(name='Grid Precip (in)')\n",
    "precip_trimmed = precip_all.loc[start:end]\n",
    "grid_all_trimmed = grid_all.loc[start:end]\n",
    "ammo_trimmed = ammo.loc[start:end]\n",
    "project = pd.concat([precip_trimmed, grid_all_trimmed, ammo_trimmed], axis=1, join='inner')\n",
    "project\n",
    "#combining all data into one df based on overlapping period"
   ]
  },
  {
   "cell_type": "code",
   "execution_count": 21,
   "id": "fabf76ba",
   "metadata": {},
   "outputs": [
    {
     "data": {
      "text/plain": [
       "Text(0.5, 1.0, 'Precipitation vs Discharge')"
      ]
     },
     "execution_count": 21,
     "metadata": {},
     "output_type": "execute_result"
    },
    {
     "data": {
      "image/png": "[encoded data removed]",
      "text/plain": [
       "<Figure size 1400x600 with 2 Axes>"
      ]
     },
     "metadata": {},
     "output_type": "display_data"
    }
   ],
   "source": [
    "fig, ax1 = plt.subplots(figsize=(14,6))\n",
    "ax1.plot(project.index, project['Gauge Precip (in)'], label='Gauge Precip (in)', color='purple', alpha=0.7)\n",
    "ax1.plot(project.index, project['Grid Precip (in)'], label='Grid Precip (in)', color='cyan', alpha=0.7)\n",
    "ax1.set_xlabel('Date')\n",
    "ax1.set_ylabel('Precipitation (inches)', color='blue')\n",
    "ax1.tick_params(axis='y', labelcolor='blue')\n",
    "ax1.legend(loc='upper left')\n",
    "ax2 = ax1.twinx()\n",
    "ax2.plot(project.index, project['Discharge (cfs)'], label='Discharge (cfs)', color='red', alpha=0.6)\n",
    "ax2.set_ylabel('Discharge (cfs)', color='red')\n",
    "ax2.yaxis.set_major_locator(MaxNLocator(nbins=6))\n",
    "ax2.yaxis.set_major_formatter(FuncFormatter(lambda x, _: f'{x:,.0f}'))\n",
    "ax2.tick_params(axis='y', labelcolor='red')\n",
    "ax2.legend(loc='upper right')\n",
    "ax1.set_title('Precipitation vs Discharge')\n",
    "#initial plot of raw data"
   ]
  },
  {
   "cell_type": "markdown",
   "id": "4560dd6a",
   "metadata": {},
   "source": [
    "Planned Analyses:"
   ]
  },
  {
   "cell_type": "markdown",
   "id": "28d9d797",
   "metadata": {},
   "source": [
    "Finding the associated lag time between large precipitation events and associated higher flows at the watershed outlet. Additionally running a statistical test finding what a \"large\" precip event is."
   ]
  },
  {
   "cell_type": "markdown",
   "id": "3f4b78c8",
   "metadata": {},
   "source": [
    "Recurrence Interval/Exceedance Probability calcs/plot of both gauge precipitation, grid precipitation, and discharge."
   ]
  },
  {
   "cell_type": "markdown",
   "id": "5830dbae",
   "metadata": {},
   "source": [
    "Statistical test of if the difference between the reanalysis and gauge data are statistically signifcant. Ie can we trust the reanalysis data."
   ]
  },
  {
   "cell_type": "markdown",
   "id": "859be60f",
   "metadata": {},
   "source": [
    "Statistical analysis of if the precipitation or discharge is increasing over time."
   ]
  },
  {
   "cell_type": "markdown",
   "id": "6924d244",
   "metadata": {},
   "source": [
    "Discussion/Conclusion:\n",
    "\n",
    "What is the lag time between events?\n",
    "\n",
    "Is there a difference between both types of precipitation data? There does appear to be variation looking at the raw data.\n",
    "\n",
    "What is the result of the test analyzing increasing trends in precip/discharge over time."
   ]
  },
  {
   "cell_type": "markdown",
   "id": "dcadd1c0",
   "metadata": {},
   "source": []
  }
 ],
 "metadata": {
  "kernelspec": {
   "display_name": "Python 3",
   "language": "python",
   "name": "python3"
  },
  "language_info": {
   "codemirror_mode": {
    "name": "ipython",
    "version": 3
   },
   "file_extension": ".py",
   "mimetype": "text/x-python",
   "name": "python",
   "nbconvert_exporter": "python",
   "pygments_lexer": "ipython3",
   "version": "3.11.9"
  }
 },
 "nbformat": 4,
 "nbformat_minor": 5
}
